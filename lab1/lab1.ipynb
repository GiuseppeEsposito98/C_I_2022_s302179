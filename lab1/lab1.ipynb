{
 "cells": [
  {
   "cell_type": "code",
   "execution_count": null,
   "metadata": {
    "collapsed": false,
    "pycharm": {
     "name": "#%%\n"
    }
   },
   "outputs": [],
   "source": [
    "import random\n",
    "import heapq\n",
    "import numpy as np\n",
    "import time\n",
    "from typing import Callable"
   ]
  },
  {
   "cell_type": "code",
   "execution_count": null,
   "metadata": {
    "collapsed": false,
    "pycharm": {
     "name": "#%%\n"
    }
   },
   "outputs": [],
   "source": [
    "class State:\n",
    "    \"\"\"A basic State\"\"\"\n",
    "    def __init__(self, data: np.ndarray):\n",
    "        self._data = data.copy()\n",
    "        self._data.flags.writeable = False\n",
    "\n",
    "    def __hash__(self):\n",
    "        return hash(bytes(self._data))\n",
    "\n",
    "    def __eq__(self, other):\n",
    "        return bytes(self._data) == bytes(other._data)\n",
    "\n",
    "    def __lt__(self, other):\n",
    "        return bytes(self._data) < bytes(other._data)\n",
    "\n",
    "    def __str__(self):\n",
    "        return str(self._data.tolist())\n",
    "\n",
    "    def __repr__(self):\n",
    "        return repr(self._data)\n",
    "\n",
    "    @property\n",
    "    def data(self):\n",
    "        return self._data\n",
    "\n",
    "    def copy_data(self):\n",
    "        return self._data.copy()\n",
    "\n",
    "class PriorityQueue:\n",
    "    \"\"\"A basic Priority Queue with simple performance optimizations\"\"\"\n",
    "\n",
    "    def __init__(self):\n",
    "        self._data_heap = list()\n",
    "        self._data_set = set()\n",
    "\n",
    "    def __bool__(self):\n",
    "        return bool(self._data_set)\n",
    "\n",
    "    def __contains__(self, item):\n",
    "        return item in self._data_set\n",
    "\n",
    "    def push(self, item, p=None):\n",
    "        assert item not in self, f\"Duplicated element\"\n",
    "        if p is None:\n",
    "            p = len(self._data_set)\n",
    "        self._data_set.add(item)\n",
    "        heapq.heappush(self._data_heap, (p, item))\n",
    "\n",
    "    def pop(self):\n",
    "        p, item = heapq.heappop(self._data_heap)\n",
    "        self._data_set.remove(item)\n",
    "        return item"
   ]
  },
  {
   "cell_type": "code",
   "execution_count": null,
   "metadata": {
    "collapsed": false,
    "pycharm": {
     "name": "#%%\n"
    }
   },
   "outputs": [],
   "source": [
    "def unit_cost(a):\n",
    "    \"\"\"Unit Cost calculate, in this case its the length\"\"\"\n",
    "    return len(a)\n",
    "\n",
    "def priority_function_astar_with_state_cost1(state, N, state_cost):\n",
    "    \"\"\"A* priority function, optimized to avoid calculation the cost, version 1\"\"\"\n",
    "    state_list = state.data.tolist()\n",
    "    new_list = set()\n",
    "    for lst in state_list:\n",
    "        for s in lst:\n",
    "            # the add only takes effect if the element is missing from the set\n",
    "            new_list.add(s)\n",
    "    return state_cost[state] + (len(range(N)) - len(new_list))\n",
    "\n",
    "def priority_function_astar_with_state_cost2(state, N, state_cost):\n",
    "    \"\"\"A* priority function, optimized to avoid calculation the cost, version 2\"\"\"\n",
    "    state_list = state.data.tolist()\n",
    "    new_list = set()\n",
    "    for lst in state_list:\n",
    "        # the update takes the list and looks which element is missing from the set\n",
    "        # if there is a missing element it adds it\n",
    "        new_list.update(lst)\n",
    "    return state_cost[state] + (len(range(N)) - len(new_list))\n",
    "\n",
    "\n",
    "def priority_function_astar(state, N):\n",
    "    \"\"\"A* priority function, no optimizations\"\"\"\n",
    "    state_list = state.data.tolist()\n",
    "    new_list = set()\n",
    "    sum = 0\n",
    "    for lst in state_list:\n",
    "        sum += len(lst)\n",
    "        for s in lst:\n",
    "            # the add only takes effect if the element is missing from the set\n",
    "            new_list.add(s)\n",
    "    return sum + (len(range(N)) - len(new_list))\n",
    "\n",
    "def possible_blocks(blocks, state):\n",
    "    \"\"\"Takes all blocks and removes the ones that are already present in state\"\"\"\n",
    "    possible_blocks = blocks.copy()\n",
    "    for lst in state.data.tolist():\n",
    "        possible_blocks.remove(lst)\n",
    "    return possible_blocks\n",
    "\n",
    "def goal_test(state, N):\n",
    "    \"\"\"Tests whether the state is Goal\"\"\"\n",
    "    # take all elements in state list (eg. [[0, 1], [3], [3, 4, 5]])\n",
    "    # put them in a unique set (eg. [0, 1, 2, 3, 4, 5])\n",
    "    # compare this set with the set expected with a problem of N size\n",
    "    state_list = state.data.tolist()\n",
    "    new_list = set()\n",
    "    for lst in state_list:\n",
    "        for s in lst:\n",
    "            new_list.add(s)\n",
    "    return new_list == set(range(N))"
   ]
  },
  {
   "cell_type": "code",
   "execution_count": null,
   "metadata": {
    "collapsed": false,
    "pycharm": {
     "name": "#%%\n"
    }
   },
   "outputs": [],
   "source": [
    "def problem(N, seed=None):\n",
    "    \"\"\"Generates the problem, also makes all blocks generated unique\"\"\"\n",
    "    state = random.getstate()\n",
    "    random.seed(seed)\n",
    "    blocks_not_unique = [\n",
    "        list(set(random.randint(0, N - 1) for n in range(random.randint(N // 5, N // 2))))\n",
    "        for n in range(random.randint(N, N * 5))\n",
    "    ]\n",
    "    blocks_unique = np.unique(np.array(blocks_not_unique, dtype=object))\n",
    "    random.setstate(state)\n",
    "    return blocks_unique.tolist()\n",
    "\n",
    "\n",
    "def define_new_state(state, a):\n",
    "    \"\"\"Defines a new state, from the current state plus a block\"\"\"\n",
    "    state.append(a)\n",
    "    return State(np.array(state, dtype=object))"
   ]
  },
  {
   "cell_type": "code",
   "execution_count": null,
   "metadata": {
    "collapsed": false,
    "pycharm": {
     "name": "#%%\n"
    }
   },
   "outputs": [],
   "source": [
    "def search(\n",
    "    blocks,\n",
    "    initial_state: State,\n",
    "    goal_test: Callable,\n",
    "    parent_state: dict,\n",
    "    state_cost: dict,\n",
    "    priority_function: Callable,\n",
    "    unit_cost: Callable,\n",
    "):\n",
    "    frontier = PriorityQueue()\n",
    "    parent_state.clear()\n",
    "    state_cost.clear()\n",
    "    state = initial_state\n",
    "    parent_state[state] = None\n",
    "    state_cost[state] = 0\n",
    "    while state is not None and not goal_test(state, N):\n",
    "        for a in possible_blocks(blocks, state):\n",
    "            new_state = define_new_state(state.data.tolist(), a)\n",
    "            cost = unit_cost(a)\n",
    "            if new_state not in state_cost and new_state not in frontier:\n",
    "                parent_state[new_state] = state\n",
    "                state_cost[new_state] = state_cost[state] + cost\n",
    "                frontier.push(new_state, p=priority_function(new_state))\n",
    "            elif new_state in frontier and state_cost[new_state] > state_cost[state] + cost:\n",
    "                old_cost = state_cost[new_state]\n",
    "                parent_state[new_state] = state\n",
    "                state_cost[new_state] = state_cost[state] + cost\n",
    "        if frontier:\n",
    "            state = frontier.pop()\n",
    "        else:\n",
    "            state = None\n",
    "\n",
    "    path = list()\n",
    "    s = state\n",
    "    while s:\n",
    "        path.append(s.copy_data().tolist())\n",
    "        # parent state is used only for debugging purposes if we want to check the path from the leaf to the root\n",
    "        s = parent_state[s]\n",
    "    # print(f\"Initial blocks : {blocks}\")\n",
    "    print(f\"Found a solution in {len(path):,} steps; visited {len(state_cost):,} states; w {sum(len(s) for s in state.data.tolist())},\"\n",
    "          f\" bloat {((sum(len(s) for s in state.data.tolist())-N)/N)*100}%\")\n",
    "    # for k,v in enumerate(reversed(path)):\n",
    "    #     print(f\"Step {k} : {v}\")\n",
    "    # print(f\"Step {len(path) - 1} is Solution\")\n",
    "\n",
    "    return list(reversed(path))"
   ]
  },
  {
   "cell_type": "markdown",
   "metadata": {},
   "source": [
    "# A*\n",
    "(for N = [5, 10, 20])"
   ]
  },
  {
   "cell_type": "code",
   "execution_count": 10,
   "metadata": {
    "collapsed": false,
    "pycharm": {
     "name": "#%%\n"
    }
   },
   "outputs": [
    {
     "name": "stdout",
     "output_type": "stream",
     "text": [
      "Found a solution in 5 steps; visited 33 states; w 5, bloat 0.0%\n",
      "Time for N:5 = 0.01971578598022461\n",
      "Found a solution in 4 steps; visited 4,067 states; w 10, bloat 0.0%\n",
      "Time for N:10 = 0.06331491470336914\n",
      "Found a solution in 6 steps; visited 432,545 states; w 23, bloat 15.0%\n",
      "Time for N:20 = 5.071085214614868\n"
     ]
    }
   ],
   "source": [
    "parent_state = dict()\n",
    "state_cost = dict()\n",
    "for N in [5, 10, 20]:\n",
    "    start = time.time()\n",
    "    blocks = problem(N , seed=42)\n",
    "    final = search(\n",
    "        sorted(blocks, key=lambda l: len(l)),\n",
    "        State(np.array([])),\n",
    "        goal_test=goal_test,\n",
    "        parent_state=parent_state,\n",
    "        state_cost=state_cost,\n",
    "        priority_function=lambda s: priority_function_astar_with_state_cost2(s, N, state_cost),\n",
    "        unit_cost=unit_cost\n",
    "    )\n",
    "    end = time.time()\n",
    "    print(f\"Time for N:{N} = {end-start}\")"
   ]
  },
  {
   "cell_type": "markdown",
   "metadata": {},
   "source": [
    "# Greedy best first\n",
    "(for N = [100, 500, 1000])"
   ]
  },
  {
   "cell_type": "code",
   "execution_count": 9,
   "metadata": {},
   "outputs": [
    {
     "name": "stdout",
     "output_type": "stream",
     "text": [
      "Found a solution in 4 steps; visited 28 states; w 5, bloat 0.0%\n",
      "Time for N:5 = 0.0018229484558105469\n",
      "Found a solution in 4 steps; visited 124 states; w 12, bloat 20.0%\n",
      "Time for N:10 = 0.0022957324981689453\n",
      "Found a solution in 5 steps; visited 131 states; w 30, bloat 50.0%\n",
      "Time for N:20 = 0.002135038375854492\n",
      "Found a solution in 6 steps; visited 2,126 states; w 183, bloat 83.0%\n",
      "Time for N:100 = 0.04761004447937012\n",
      "Found a solution in 8 steps; visited 12,643 states; w 1379, bloat 175.8%\n",
      "Time for N:500 = 0.7243647575378418\n",
      "Found a solution in 9 steps; visited 28,925 states; w 3007, bloat 200.70000000000002%\n",
      "Time for N:1000 = 2.7190659046173096\n"
     ]
    }
   ],
   "source": [
    "parent_state = dict()\n",
    "state_cost = dict()\n",
    "for N in [5, 10, 20, 100, 500, 1000]:\n",
    "    start = time.time()\n",
    "    blocks = problem(N , seed=42)\n",
    "    final = search(\n",
    "        sorted(blocks, key=lambda l: len(l)),\n",
    "        State(np.array([])),\n",
    "        goal_test=goal_test,\n",
    "        parent_state=parent_state,\n",
    "        state_cost=state_cost,\n",
    "        priority_function=lambda s: priority_function_astar_with_state_cost2(s, N, state_cost),\n",
    "        unit_cost=lambda a : 1\n",
    "    )\n",
    "    end = time.time()\n",
    "    print(f\"Time for N:{N} = {end-start}\")"
   ]
  },
  {
   "cell_type": "code",
   "execution_count": null,
   "metadata": {},
   "outputs": [],
   "source": []
  }
 ],
 "metadata": {
  "kernelspec": {
   "display_name": "Python 3.9.11 ('prj_quarto')",
   "language": "python",
   "name": "python3"
  },
  "language_info": {
   "codemirror_mode": {
    "name": "ipython",
    "version": 3
   },
   "file_extension": ".py",
   "mimetype": "text/x-python",
   "name": "python",
   "nbconvert_exporter": "python",
   "pygments_lexer": "ipython3",
   "version": "3.9.11"
  },
  "orig_nbformat": 4,
  "vscode": {
   "interpreter": {
    "hash": "a2e3e25d65b539032d7ede074f3d1877bf98d0b58bd5ff9d58e4c13a4105d93c"
   }
  }
 },
 "nbformat": 4,
 "nbformat_minor": 2
}
